{
 "cells": [
  {
   "cell_type": "markdown",
   "metadata": {},
   "source": [
    "# Lista 1\n",
    "\n",
    "## Kurs wybranego języka programowania (Python)\n",
    "\n",
    "Wszystkie rozwiązania proszę wpisać w tym notatniku poniżej treści zadań. Zadania z `*` to zadania dodatkowe."
   ]
  },
  {
   "cell_type": "markdown",
   "metadata": {},
   "source": [
    "## Zadanie 1 _(5pt)_\n",
    "\n",
    "Napisz funkcję, który wyświetla trójkąt Pascala o zadanej wysokości\n",
    "```\n",
    "                1\n",
    "              1   1\n",
    "            1   2   1\n",
    "          1   3   3   1\n",
    "        1   4   6   4   1\n",
    "      .....................\n",
    "```"
   ]
  },
  {
   "cell_type": "code",
   "execution_count": 1,
   "metadata": {},
   "outputs": [
    {
     "name": "stdout",
     "output_type": "stream",
     "text": [
      "Podaj wysokosc trojkata n= 0\n"
     ]
    }
   ],
   "source": [
    "def printTriangle(n):\n",
    "\n",
    "    for line in range(0, n):\n",
    "        for s in range (0, n-line):\n",
    "                print(\" \", end = \"\")\n",
    "        for i in range(0, line+1):\n",
    "            print(binominal(line, i), \" \", end = \"\")\n",
    "        print()\n",
    "\n",
    "\n",
    "def binominal(n, k):\n",
    "    help=1\n",
    "    if(k > n - 1):\n",
    "        k=n-k\n",
    "    for i in range(0, k):\n",
    "        help = help * (n - i)\n",
    "        help = help // (i +1)\n",
    "    \n",
    "    return help\n",
    "\n",
    "\n",
    "\n",
    "\n",
    "n= input(\"Podaj wysokosc trojkata n= \")\n",
    "printTriangle(int(n))"
   ]
  },
  {
   "cell_type": "markdown",
   "metadata": {},
   "source": [
    "## Zadanie 2 _(5pt)_\n",
    "\n",
    "Napisz funkcję `primes(n)` zwracająca listę liczb pierwszych nie większych niż $n$ np.\n",
    "\n",
    "```\n",
    "In [ ]:   primes(6)\n",
    "Out [ ]: [2, 3, 5]\n",
    "```"
   ]
  },
  {
   "cell_type": "code",
   "execution_count": 1,
   "metadata": {},
   "outputs": [
    {
     "name": "stdout",
     "output_type": "stream",
     "text": [
      "Podaj liczbe calkowita: 20\n",
      "Liczb pierwszych <20 jest:  [2, 3, 5, 7, 11, 13, 17, 19]\n"
     ]
    }
   ],
   "source": [
    "def isPrime(n): \n",
    "\n",
    "    if (n <= 1): \n",
    "        return False\n",
    "    if (n <= 3): \n",
    "        return True\n",
    "\n",
    "    if (n % 2 == 0 or n % 3 == 0): \n",
    "        return False\n",
    "  \n",
    "    i = 5\n",
    "    while(i*i<=n): \n",
    "        if (n % i == 0 or n % (i + 2) == 0): \n",
    "            return False\n",
    "        i=i+6\n",
    "  \n",
    "    return True\n",
    "\n",
    "def primes(n):\n",
    "    primes=[]\n",
    "\n",
    "    for i in range(0,n):\n",
    "        if( isPrime(i)):\n",
    "            primes.append(i)\n",
    "\n",
    "    return primes\n",
    "    \n",
    "\n",
    "n =input(\"Podaj liczbe calkowita: \")\n",
    "print(\"Liczb pierwszych <\"+n+\" jest: \",primes(int(n)))"
   ]
  },
  {
   "cell_type": "markdown",
   "metadata": {},
   "source": [
    "## Zadanie 3 _(5pt)_\n",
    "\n",
    "Napisz funkcje, która usuwa wszystkie powtarzające się elementy z listy (tak, że każdy element występuje tylko raz) np. z listy `[1,1,2,2,2,3,3,5,5,5,4,4,4,0]` dostajemy `[1,2,3,5,4,0]`."
   ]
  },
  {
   "cell_type": "code",
   "execution_count": 4,
   "metadata": {},
   "outputs": [
    {
     "name": "stdout",
     "output_type": "stream",
     "text": [
      "[2, 2, 2, 3, 4, 5, 6, 1, 8, 8, 8, 4, 1, 2, 5, 9, 0, 4]\n",
      "[2, 3, 4, 5, 6, 1, 8, 9, 0]\n"
     ]
    }
   ],
   "source": [
    "def removeDuplicates(tab):\n",
    "    return list(dict.fromkeys(tab))\n",
    "\n",
    "tab=[2, 2, 2, 3, 4, 5, 6, 1, 8, 8, 8, 4, 1, 2, 5, 9, 0, 4]\n",
    "print(tab)\n",
    "tab=removeDuplicates(tab)\n",
    "print(tab)"
   ]
  },
  {
   "cell_type": "markdown",
   "metadata": {},
   "source": [
    "## Zadanie 4 _(10pt)_\n",
    "\n",
    "Napisz funkcję `prime_factors(n)`, która rozkłada $n$ na czynniki pierwsze i jako wynik wraca listę par $[(p_1,\\alpha_1), (p_2,\\alpha_2), \\ldots, (p_k, \\alpha_k)]$ taką, że $p_1^{\\alpha_1}p_2^{\\alpha_2}\\ldots p_k^{\\alpha_k}$.\n"
   ]
  },
  {
   "cell_type": "code",
   "execution_count": 2,
   "metadata": {},
   "outputs": [
    {
     "name": "stdout",
     "output_type": "stream",
     "text": [
      "Podaj liczbę całkowitą:234\n",
      "Rozkład na czynniki pierwsze: ['(2, 1)', '(3, 2)', '(13.0, 1)']\n"
     ]
    }
   ],
   "source": [
    "import math\n",
    "\n",
    "def primeFactors(n):\n",
    "    factors=[]\n",
    "    counter=0\n",
    "\n",
    "    while n % 2 == 0: \n",
    "        counter+=1\n",
    "        n = n / 2\n",
    "\n",
    "    if(counter>0):\n",
    "        factors.append(\"(2, \"+str(counter)+\")\")\n",
    "           \n",
    "    for i in range(3,int(math.sqrt(n))+1,2): \n",
    "        counter=0\n",
    "\n",
    "        while n % i== 0: \n",
    "            counter+=1 \n",
    "            n = n / i \n",
    "\n",
    "        if(counter>0):\n",
    "            factors.append(\"(\"+str(i)+\", \"+str(counter)+\")\")\n",
    "\n",
    "    if n > 2: \n",
    "        factors.append(\"(\"+str(n)+\", \"+str(1)+\")\")\n",
    "\n",
    "    return factors    \n",
    "\n",
    "\n",
    "\n",
    "n=input(\"Podaj liczbę całkowitą:\" )\n",
    "print(\"Rozkład na czynniki pierwsze:\", primeFactors(int(n)))"
   ]
  },
  {
   "cell_type": "markdown",
   "metadata": {},
   "source": [
    "## Zadanie 5 _(10pt)_\n",
    "\n",
    "Napisz funkcję `fraczero(n)` liczącą silnie $n!$ dla $n$ od $0$ do $10000$ oraz jako wynik wraca liczbę zer na końcu $n!$."
   ]
  },
  {
   "cell_type": "code",
   "execution_count": null,
   "metadata": {},
   "outputs": [],
   "source": [
    "def faczero(num):\n",
    "    factorial = 1\n",
    "    counter=0\n",
    "\n",
    "    if(0>num or num>1000):\n",
    "        raise Exception(\"Error\")\n",
    "    elif num == 0:\n",
    "        return 0\n",
    "    else:\n",
    "        for i in range(1,num + 1):\n",
    "            factorial = factorial*i\n",
    "\n",
    "    while(factorial%10==0):\n",
    "        factorial=factorial//10\n",
    "        counter+=1\n",
    "\n",
    "    return counter \n",
    "\n",
    "num=input(\"Podaj nieujemną liczbę całkowitą: \")\n",
    "try:\n",
    "    print(\"Liczba zer na koncu:\", faczero(int(num)))\n",
    "except:\n",
    "    print(\"Podana liczba musi byc calkowita i nalezec do zakresu 0-1000\")"
   ]
  },
  {
   "cell_type": "markdown",
   "metadata": {},
   "source": [
    "## Zadanie 6 _(10pt)_\n",
    "\n",
    "Napisz program, który generuje liczbę $20$ liczb losowych (rozkład jednostajny) od $1$ do $100$\n",
    "* Wyświetl listę wygenerowanych liczb\n",
    "* Wyświetl średnią\n",
    "* Wyświetl największą i najmniejszą wartość\n",
    "* Wyświetl drugą największą i drugą najmniejszą wartość na liście\n",
    "* Wyświetl ile jest liczb parzystych na liście\n",
    " "
   ]
  },
  {
   "cell_type": "code",
   "execution_count": null,
   "metadata": {},
   "outputs": [],
   "source": [
    "import random\n",
    "\n",
    "tab=random.sample(range(1, 100), 20)\n",
    "print(tab)\n",
    "print(\"Average value=\", sum(tab)/len(tab))\n",
    "print(\"Max=\", max(tab))\n",
    "print(\"Min=\", min(tab))\n",
    "tab.sort()\n",
    "print(\"Second max=\", tab[-2])\n",
    "print(\"Second min=\", tab[1])\n",
    "\n",
    "even=0\n",
    "for i in tab:\n",
    "    if(i%2==0):\n",
    "        even+=1\n",
    "\n",
    "print(\"Even=\", even)\n",
    "print(\"Odd=\", len(tab)-even)"
   ]
  },
  {
   "cell_type": "markdown",
   "metadata": {},
   "source": [
    "## Zadanie 7 _(10pt)_\n",
    "\n",
    "Załóżmy, że mamy następującą listę: `L = ['aababacaa', 'cabaabcca', 'aaabbcbacb', 'acababbaab', ...]` wygenerowaną losowo tzn. lista zawiera losowe ciągi znaków o zadanej długości z liter `'a'`, `'b'` i `'c'`. Takie wzorce występują w wielu miejscach np. sekwencje DNA. Użytkownik zawiera swój (wzorzec) ciąg znaków z literami i pustymi miejscami oznaczonymi przez `'*'` np. `\"a**a******\"`. Wykorzystaj słownik z kluczami zawierającymi indeksy znaków różnych od `'*'` i wartościami liter z wzorca. Napisz program, który znajduje wszystkie sekwencje z listy, które pasuje do podanego wzorca."
   ]
  },
  {
   "cell_type": "code",
   "execution_count": null,
   "metadata": {},
   "outputs": [],
   "source": [
    "import random\n",
    "\n",
    "def generate(n):\n",
    "    list=[]\n",
    "    set=\"abc\"\n",
    "\n",
    "    for i in range(1,10):\n",
    "        word=\"\"\n",
    "        for j in range(0,n):\n",
    "            word=word+random.choice(set)\n",
    "\n",
    "        list.append(word)\n",
    "    \n",
    "    return list\n",
    "\n",
    "def find(list, templ):\n",
    "    match=[]\n",
    "    keys={}\n",
    "    \n",
    "    for i in range(0, len(templ)):\n",
    "        if(templ[i]!='*'):\n",
    "            keys[i]=templ[i]\n",
    "    \n",
    "    for word in list:\n",
    "        is_good=0\n",
    "        for i in range(0, len(word)):\n",
    "            if(i not in keys.keys() or word[i]==keys.get(i)):\n",
    "                is_good=1\n",
    "            else:\n",
    "                is_good=0\n",
    "                break\n",
    "        \n",
    "        if(is_good):\n",
    "            match.append(word)\n",
    "\n",
    "    return match    \n",
    "    \n",
    "\n",
    "n=input(\"Podaj dlugosc ciagu: \")\n",
    "list=generate(int(n))\n",
    "print(list)\n",
    "templ=input(\"Podaj wzorzec o dlugosci \"+n+\": \")\n",
    "print(\"Ciagi pasujace do wzorca:\",find(list,templ))\n",
    "\n"
   ]
  },
  {
   "cell_type": "markdown",
   "metadata": {},
   "source": [
    "## Zadanie 8 _(10pt)_\n",
    "\n",
    "Napisz program, który konwerteruje liczby rzymskie na liczby arabskie. Do zapisu liczb rzymskich używa\n",
    "się 7 liter: `I=1`, `V=5`, `X=10`, `L=50`, `C=100`, `D=500`, `M=1000`. Opis algorytmu zamiany z i na system rzymski można znaleźć np. [tutaj](http://www.algorytm.org/algorytmy-arytmetyczne/zamiana-z-i-na-system-rzymski.html)"
   ]
  },
  {
   "cell_type": "code",
   "execution_count": null,
   "metadata": {},
   "outputs": [],
   "source": [
    "def toArabic(num):\n",
    "    symbols = ['M', 'CM', 'D', 'CD', 'C', 'XC', 'L', 'XL', 'X', 'IX', 'V','IV','I']\n",
    "    values = [1000, 900, 500, 400, 100, 90, 50, 40, 10, 9, 5, 4, 1]\n",
    "    arabic = 0\n",
    "\n",
    "    i=0\n",
    "    s=0 \n",
    "    while s < len(num):\n",
    "        if num[s] == symbols[i]:\n",
    "            arabic += values[i]\n",
    "            s += 1\n",
    "        elif (len(num) - s >= 2) and (num[s] + num[s+1]) == symbols[i+1]:\n",
    "                i +=1\n",
    "                arabic += values[i]\n",
    "                i +=1\n",
    "                s += 2\n",
    "        else:\n",
    "            i += 2\n",
    "    return arabic       \n",
    "\n",
    "\n",
    "\n",
    "num=input(\"Podaj liczbe w systemie rzymskim:\")\n",
    "print(num+\"=\", toArabic(num))"
   ]
  },
  {
   "cell_type": "markdown",
   "metadata": {},
   "source": [
    "## Zadanie 9* _(5pt)_\n",
    "\n",
    "Napisz program kalkulator, który pobiera wprowadzone wartości oraz funkcje z klawiatury następnie podaje wynik. W przypadku błędnych danych zgłasza błąd.\n",
    "\n",
    "Przykładowa sesja:\n",
    "```\n",
    "    Kalkulator\n",
    "    [1]: 2+5*10\n",
    "        52\n",
    "    [2]: sin(0.5)+cos(0.3)\n",
    "        1.434762027729809\n",
    "    [3]: 2^100\n",
    "        1267650600228229401496703205376\n",
    "```\n",
    "\n",
    "Przykładowy kod pobierania danych od użytkownika:\n",
    "\n",
    "```\n",
    "    x = input('Podaj x = ')\n",
    "```"
   ]
  },
  {
   "cell_type": "code",
   "execution_count": 2,
   "metadata": {},
   "outputs": [
    {
     "name": "stdout",
     "output_type": "stream",
     "text": [
      "Wprowadz wyrazenie: 4^6\n",
      "4^6= 4096\n"
     ]
    }
   ],
   "source": [
    "import math\n",
    "from math import *\n",
    "\n",
    "def checkInput(formula):\n",
    "    return formula.replace('^','**')\n",
    "\n",
    "try:\n",
    "    formula=input(\"Wprowadz wyrazenie: \")\n",
    "    print(formula+\"=\",eval(checkInput(formula)))\n",
    "except:\n",
    "    print(\"Cos poszlo nie tak, wprowadzac mozna tylko \\nliczby i standardowe operacje matematyczne\")\n"
   ]
  },
  {
   "cell_type": "markdown",
   "metadata": {},
   "source": [
    "\n",
    "## Zadanie 10* _(10pt)_\n",
    "\n",
    "Napisz program, który rysuje na ekranie w trybie znakowym wykres funkcji zmiennej $x$. Wskazówka: utwórz  ,,tablicę dwuwymiarową'' o wymiarach 80x24 i narysuj wykres w tej tablicy. Następnie wynik wyświetl na ekranie.\n",
    "\n",
    "```\n",
    "        Podaj funkcje f(x) = sin(x)\n",
    "        Podaj początek przedziału a = -pi\n",
    "        Podaj koniec przedziału b = pi\n",
    "                                                |\n",
    "                                                |\n",
    "                                                |              ***********\n",
    "                                                |           ***           ***\n",
    "                                                |         **                 **\n",
    "                                                |        *                     *\n",
    "                                                |      **                       **\n",
    "                                                |     *                           *\n",
    "                                                |   **                             **\n",
    "                                                |  *                                 *\n",
    "                                                | *                                   *\n",
    "                                                |*                                     *\n",
    "        ----------------------------------------|---------------------------------------\n",
    "          *                                   * |\n",
    "           *                                 *  |\n",
    "            **                             **   |\n",
    "              *                           *     |\n",
    "               **                       **      |\n",
    "                 *                     *        |\n",
    "                  **                 **         |\n",
    "                    ***           ***           |\n",
    "                       ***** *****              |\n",
    "                            *                   |\n",
    "                                                |\n",
    "```"
   ]
  },
  {
   "cell_type": "code",
   "execution_count": null,
   "metadata": {},
   "outputs": [],
   "source": [
    "import math\n",
    "from math import *\n",
    "\n",
    "def printMatrix(matrix):\n",
    "    for y in range(0, 24):\n",
    "        for x in range(0, 80):\n",
    "            print(matrix[y][x], end = '')\n",
    "        print()\n",
    "\n",
    "def generateMatrix(function, a, b):\n",
    "    matrix = [[' ' for x in range(80)] for y in range(24)]\n",
    "    xratio = (abs(eval(b))+abs(eval(a)))/80\n",
    "    max=0\n",
    "    min=0\n",
    "    a=eval(a)\n",
    "\n",
    "    for y in range(0, 24):\n",
    "        for x in range(0, 80):\n",
    "            if(y==12):\n",
    "                matrix[y][x]=\"-\"\n",
    "            if(x==40):\n",
    "                matrix[y][x]=\"|\"\n",
    "    \n",
    "    for x in range(0, 80):\n",
    "        y_val=eval(function.replace(\"x\", str(float(a)+xratio*x)))\n",
    "        if(y_val>max):\n",
    "            max=y_val\n",
    "        elif(y_val<min):\n",
    "            min=y_val\n",
    "        \n",
    "\n",
    "    if(abs(max)<abs(min)):\n",
    "        yratio=2*round(abs(min))/24\n",
    "    else:\n",
    "        yratio=2*round(abs(max))/24\n",
    "\n",
    "    for x in range(0, 80):\n",
    "        if(eval(function.replace(\"x\", str(float(a)+xratio*x)))>=0):\n",
    "            outcome=round(abs(eval(function.replace(\"x\", str(float(a)+xratio*x)))/yratio))\n",
    "            outcome=outcome+(-2*outcome+12)\n",
    "        else:\n",
    "            outcome=round(abs(eval(function.replace(\"x\", str(float(a)+xratio*x)))/yratio))+11\n",
    "\n",
    "        matrix[outcome][x]='*'\n",
    "     \n",
    "    return matrix\n",
    "       \n",
    "\n",
    "function=input(\"Podaj funkcje f(x)=\")\n",
    "a=input(\"Podaj poczatek przedzialu a=\")\n",
    "b=input(\"Podaj koniec przedzialu b=\")\n",
    "matrix=generateMatrix(function, a, b)\n",
    "printMatrix(matrix)\n"
   ]
  }
 ],
 "metadata": {
  "kernelspec": {
   "display_name": "Python 3",
   "language": "python",
   "name": "python3"
  },
  "language_info": {
   "codemirror_mode": {
    "name": "ipython",
    "version": 3
   },
   "file_extension": ".py",
   "mimetype": "text/x-python",
   "name": "python",
   "nbconvert_exporter": "python",
   "pygments_lexer": "ipython3",
   "version": "3.8.2"
  }
 },
 "nbformat": 4,
 "nbformat_minor": 2
}
